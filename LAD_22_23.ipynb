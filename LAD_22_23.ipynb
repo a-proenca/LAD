{
  "nbformat": 4,
  "nbformat_minor": 0,
  "metadata": {
    "colab": {
      "provenance": [],
      "include_colab_link": true
    },
    "kernelspec": {
      "name": "python3",
      "display_name": "Python 3"
    },
    "language_info": {
      "name": "python"
    }
  },
  "cells": [
    {
      "cell_type": "markdown",
      "metadata": {
        "id": "view-in-github",
        "colab_type": "text"
      },
      "source": [
        "<a href=\"https://colab.research.google.com/github/a-proenca/LAD/blob/main/LAD_22_23.ipynb\" target=\"_parent\"><img src=\"https://colab.research.google.com/assets/colab-badge.svg\" alt=\"Open In Colab\"/></a>"
      ]
    },
    {
      "cell_type": "markdown",
      "source": [
        "## Instituto Politécnico de Coimbra\n",
        "## Instituto Superior de Engenharia de Coimbra\n",
        "## Mestrado em Engenharia Informática - Laboratório de Análise de Dados\n",
        "## Elaborado por:\n",
        "\n",
        "# André Proença - 2016018783\n",
        "\n",
        "# Bruno Coutinho - 2014009997"
      ],
      "metadata": {
        "id": "X7mr4h591M6i"
      }
    },
    {
      "cell_type": "markdown",
      "source": [
        "#Imports"
      ],
      "metadata": {
        "id": "aLxvDwU31U5-"
      }
    },
    {
      "cell_type": "code",
      "source": [
        "import seaborn as sea\n",
        "import pandas as pd\n",
        "from matplotlib import pyplot as plt\n",
        "import numpy as np\n",
        "import os"
      ],
      "metadata": {
        "id": "5mCUIttN1WXW"
      },
      "execution_count": 2,
      "outputs": []
    },
    {
      "cell_type": "code",
      "source": [
        "from google.colab import drive\n",
        "drive.mount('/content/drive')"
      ],
      "metadata": {
        "id": "V3L2XOVvIiob",
        "outputId": "51d80ccf-fe55-4d03-c2b3-e8f93f99265e",
        "colab": {
          "base_uri": "https://localhost:8080/"
        }
      },
      "execution_count": 1,
      "outputs": [
        {
          "output_type": "stream",
          "name": "stdout",
          "text": [
            "Mounted at /content/drive\n"
          ]
        }
      ]
    },
    {
      "cell_type": "code",
      "source": [],
      "metadata": {
        "id": "Gr8xBV6t1Z96"
      },
      "execution_count": 2,
      "outputs": []
    },
    {
      "cell_type": "markdown",
      "source": [
        "#FUNCOES\n"
      ],
      "metadata": {
        "id": "KX0oqh7E1cPy"
      }
    },
    {
      "cell_type": "code",
      "source": [
        "def ler_emel():\n",
        "    emel_filepath = '/content/drive/MyDrive/LAD_2023/EMEL'\n",
        "    ficheiros = ['EMEL_CONDICIONAMENTOS_TRANSITO_2019.csv','EMEL_CONDICIONAMENTOS_TRANSITO_2020.csv','EMEL_CONDICIONAMENTOS_TRANSITO_2021.csv','EMEL_CONDICIONAMENTOS_TRANSITO_2022.csv']\n",
        "\n",
        "    data_frames = []  # Initialize as an empty list\n",
        "\n",
        "    for ficheiro in ficheiros:\n",
        "        path = os.path.join(emel_filepath, ficheiro)\n",
        "\n",
        "        try:\n",
        "            data_frame = pd.read_csv(path)\n",
        "            data_frames.append(data_frame)\n",
        "\n",
        "        except FileNotFoundError:\n",
        "            print(f\"Arquivo {ficheiro} não encontrado.\")\n",
        "\n",
        "    result = pd.concat(data_frames, ignore_index=True)\n",
        "\n",
        "    return result\n"
      ],
      "metadata": {
        "id": "S6CcHkVT1e9x"
      },
      "execution_count": 3,
      "outputs": []
    },
    {
      "cell_type": "code",
      "source": [
        "def ler_eixos_vodafone_2021():\n",
        "    vodafone_filepath = '/content/drive/MyDrive/LAD_2023/VODAFONE EIXOS/PGIL_VODAFONE_EIXOS_2021'\n",
        "    ficheiros = ['PGIL_VODAFONE_EIXOS_2021_dez.csv','PGIL_VODAFONE_EIXOS_2021_nov.csv','PGIL_VODAFONE_EIXOS_2021_out.csv','PGIL_VODAFONE_EIXOS_2021_set.csv']\n",
        "\n",
        "    data_frames = []  # Initialize as an empty list\n",
        "\n",
        "    for ficheiro in ficheiros:\n",
        "        path = os.path.join(vodafone_filepath, ficheiro)\n",
        "\n",
        "        try:\n",
        "            data_frame = pd.read_csv(path)\n",
        "            data_frames.append(data_frame)\n",
        "\n",
        "        except FileNotFoundError:\n",
        "            print(f\"Arquivo {ficheiro} não encontrado.\")\n",
        "\n",
        "    result = pd.concat(data_frames, ignore_index=True)\n",
        "\n",
        "    return result"
      ],
      "metadata": {
        "id": "tdaME3gG1hYZ"
      },
      "execution_count": 4,
      "outputs": []
    },
    {
      "cell_type": "code",
      "source": [
        "def ler_eixos_vodafone_2022():\n",
        "    vodafone_filepath = '/content/drive/MyDrive/LAD_2023/VODAFONE EIXOS/PGIL_VODAFONE_EIXOS_2022'\n",
        "    ficheiros = ['PGIL_VODAFONE_EIXOS_2022_01.csv','PGIL_VODAFONE_EIXOS_2022_02.csv','PGIL_VODAFONE_EIXOS_2022_03.csv','PGIL_VODAFONE_EIXOS_2022_04.csv','PGIL_VODAFONE_EIXOS_2022_05.csv','PGIL_VODAFONE_EIXOS_2022_06.csv','PGIL_VODAFONE_EIXOS_2022_07.csv','PGIL_VODAFONE_EIXOS_2022_08.csv','PGIL_VODAFONE_EIXOS_2022_09.csv','PGIL_VODAFONE_EIXOS_2022_10.csv','PGIL_VODAFONE_EIXOS_2022_11.csv','PGIL_VODAFONE_EIXOS_2022_12.csv']\n",
        "\n",
        "    data_frames = []  # Initialize as an empty list\n",
        "\n",
        "    for ficheiro in ficheiros:\n",
        "        path = os.path.join(vodafone_filepath, ficheiro)\n",
        "\n",
        "        try:\n",
        "            data_frame = pd.read_csv(path)\n",
        "            data_frames.append(data_frame)\n",
        "\n",
        "        except FileNotFoundError:\n",
        "            print(f\"Arquivo {ficheiro} não encontrado.\")\n",
        "\n",
        "    result = pd.concat(data_frames, ignore_index=True)\n",
        "\n",
        "    return result"
      ],
      "metadata": {
        "id": "HkhT1QFs1lX4"
      },
      "execution_count": 5,
      "outputs": []
    },
    {
      "cell_type": "code",
      "source": [
        "def ler_eixos_vodafone_2023():\n",
        "    vodafone_filepath = '/content/drive/MyDrive/LAD_2023/VODAFONE EIXOS/PGIL_VODAFONE_EIXOS_2023'\n",
        "    ficheiros = ['PgilVodafone_Eixos_012023.csv','PgilVodafone_Eixos_022023.csv','PgilVodafone_Eixos_032023.csv','PgilVodafone_Eixos_042023.csv','PGILVodafonEixos_052023.csv','PGILVodafonEixos_062023.csv']\n",
        "\n",
        "    data_frames = []  # Initialize as an empty list\n",
        "\n",
        "    for ficheiro in ficheiros:\n",
        "        path = os.path.join(vodafone_filepath, ficheiro)\n",
        "\n",
        "        try:\n",
        "            data_frame = pd.read_csv(path)\n",
        "            data_frames.append(data_frame)\n",
        "\n",
        "        except FileNotFoundError:\n",
        "            print(f\"Arquivo {ficheiro} não encontrado.\")\n",
        "\n",
        "    result = pd.concat(data_frames, ignore_index=True)\n",
        "\n",
        "    return result"
      ],
      "metadata": {
        "id": "sgKVLNy91nSw"
      },
      "execution_count": 6,
      "outputs": []
    },
    {
      "cell_type": "code",
      "source": [
        "data_frame_emel = ler_emel()\n",
        "data_vodafone_eixos2021 = ler_eixos_vodafone_2021()\n",
        "data_vodafone_eixos2022 = ler_eixos_vodafone_2022()\n",
        "data_vodafone_eixos2023 = ler_eixos_vodafone_2023()\n"
      ],
      "metadata": {
        "id": "xMTdAGE71otZ"
      },
      "execution_count": 7,
      "outputs": []
    },
    {
      "cell_type": "code",
      "source": [
        "data_vodafone_eixos2023"
      ],
      "metadata": {
        "id": "Ur_gzJEv1pzn",
        "outputId": "17773916-5cb2-4ed3-e072-81f4be394577",
        "colab": {
          "base_uri": "https://localhost:8080/",
          "height": 423
        }
      },
      "execution_count": 8,
      "outputs": [
        {
          "output_type": "execute_result",
          "data": {
            "text/plain": [
              "        id_eixo_viario                 Eixo                  Datetime  \\\n",
              "0                 11.0        IC2 (Sacavém)             1672531200000   \n",
              "1                  3.0                   A5             1672531500000   \n",
              "2                  4.0   N117 (Cabos Ávila)             1672531500000   \n",
              "3                  5.0                 IC19             1672531500000   \n",
              "4                  1.0       Ponte 25 Abril             1672535700000   \n",
              "...                ...                  ...                       ...   \n",
              "523323             NaN                 IC16  2023-06-30T22:55:00.000Z   \n",
              "523324             NaN                   A1  2023-06-30T22:55:00.000Z   \n",
              "523325             NaN  Calçada de Carriche  2023-06-30T22:55:00.000Z   \n",
              "523326             NaN        IC2 (Sacavém)  2023-06-30T22:55:00.000Z   \n",
              "523327             NaN  Ponte Vasco da Gama  2023-06-30T22:55:00.000Z   \n",
              "\n",
              "               C12         C13  extract_year_2  extract_month_3  extract_day_4  \n",
              "0         3.200000    0.000000             NaN              NaN            NaN  \n",
              "1         0.000000    0.000000             NaN              NaN            NaN  \n",
              "2         4.690000    0.000000             NaN              NaN            NaN  \n",
              "3         0.000000    0.000000             NaN              NaN            NaN  \n",
              "4         3.340000    3.340000             NaN              NaN            NaN  \n",
              "...            ...         ...             ...              ...            ...  \n",
              "523323  269.200012  325.600006          2023.0              6.0           30.0  \n",
              "523324  358.750000  475.269989          2023.0              6.0           30.0  \n",
              "523325  135.300003  192.979996          2023.0              6.0           30.0  \n",
              "523326  314.799988  378.480011          2023.0              6.0           30.0  \n",
              "523327  116.269997  137.070007          2023.0              6.0           30.0  \n",
              "\n",
              "[523328 rows x 8 columns]"
            ],
            "text/html": [
              "\n",
              "  <div id=\"df-79d8696f-c219-437a-b6ec-3084e78aa924\" class=\"colab-df-container\">\n",
              "    <div>\n",
              "<style scoped>\n",
              "    .dataframe tbody tr th:only-of-type {\n",
              "        vertical-align: middle;\n",
              "    }\n",
              "\n",
              "    .dataframe tbody tr th {\n",
              "        vertical-align: top;\n",
              "    }\n",
              "\n",
              "    .dataframe thead th {\n",
              "        text-align: right;\n",
              "    }\n",
              "</style>\n",
              "<table border=\"1\" class=\"dataframe\">\n",
              "  <thead>\n",
              "    <tr style=\"text-align: right;\">\n",
              "      <th></th>\n",
              "      <th>id_eixo_viario</th>\n",
              "      <th>Eixo</th>\n",
              "      <th>Datetime</th>\n",
              "      <th>C12</th>\n",
              "      <th>C13</th>\n",
              "      <th>extract_year_2</th>\n",
              "      <th>extract_month_3</th>\n",
              "      <th>extract_day_4</th>\n",
              "    </tr>\n",
              "  </thead>\n",
              "  <tbody>\n",
              "    <tr>\n",
              "      <th>0</th>\n",
              "      <td>11.0</td>\n",
              "      <td>IC2 (Sacavém)</td>\n",
              "      <td>1672531200000</td>\n",
              "      <td>3.200000</td>\n",
              "      <td>0.000000</td>\n",
              "      <td>NaN</td>\n",
              "      <td>NaN</td>\n",
              "      <td>NaN</td>\n",
              "    </tr>\n",
              "    <tr>\n",
              "      <th>1</th>\n",
              "      <td>3.0</td>\n",
              "      <td>A5</td>\n",
              "      <td>1672531500000</td>\n",
              "      <td>0.000000</td>\n",
              "      <td>0.000000</td>\n",
              "      <td>NaN</td>\n",
              "      <td>NaN</td>\n",
              "      <td>NaN</td>\n",
              "    </tr>\n",
              "    <tr>\n",
              "      <th>2</th>\n",
              "      <td>4.0</td>\n",
              "      <td>N117 (Cabos Ávila)</td>\n",
              "      <td>1672531500000</td>\n",
              "      <td>4.690000</td>\n",
              "      <td>0.000000</td>\n",
              "      <td>NaN</td>\n",
              "      <td>NaN</td>\n",
              "      <td>NaN</td>\n",
              "    </tr>\n",
              "    <tr>\n",
              "      <th>3</th>\n",
              "      <td>5.0</td>\n",
              "      <td>IC19</td>\n",
              "      <td>1672531500000</td>\n",
              "      <td>0.000000</td>\n",
              "      <td>0.000000</td>\n",
              "      <td>NaN</td>\n",
              "      <td>NaN</td>\n",
              "      <td>NaN</td>\n",
              "    </tr>\n",
              "    <tr>\n",
              "      <th>4</th>\n",
              "      <td>1.0</td>\n",
              "      <td>Ponte 25 Abril</td>\n",
              "      <td>1672535700000</td>\n",
              "      <td>3.340000</td>\n",
              "      <td>3.340000</td>\n",
              "      <td>NaN</td>\n",
              "      <td>NaN</td>\n",
              "      <td>NaN</td>\n",
              "    </tr>\n",
              "    <tr>\n",
              "      <th>...</th>\n",
              "      <td>...</td>\n",
              "      <td>...</td>\n",
              "      <td>...</td>\n",
              "      <td>...</td>\n",
              "      <td>...</td>\n",
              "      <td>...</td>\n",
              "      <td>...</td>\n",
              "      <td>...</td>\n",
              "    </tr>\n",
              "    <tr>\n",
              "      <th>523323</th>\n",
              "      <td>NaN</td>\n",
              "      <td>IC16</td>\n",
              "      <td>2023-06-30T22:55:00.000Z</td>\n",
              "      <td>269.200012</td>\n",
              "      <td>325.600006</td>\n",
              "      <td>2023.0</td>\n",
              "      <td>6.0</td>\n",
              "      <td>30.0</td>\n",
              "    </tr>\n",
              "    <tr>\n",
              "      <th>523324</th>\n",
              "      <td>NaN</td>\n",
              "      <td>A1</td>\n",
              "      <td>2023-06-30T22:55:00.000Z</td>\n",
              "      <td>358.750000</td>\n",
              "      <td>475.269989</td>\n",
              "      <td>2023.0</td>\n",
              "      <td>6.0</td>\n",
              "      <td>30.0</td>\n",
              "    </tr>\n",
              "    <tr>\n",
              "      <th>523325</th>\n",
              "      <td>NaN</td>\n",
              "      <td>Calçada de Carriche</td>\n",
              "      <td>2023-06-30T22:55:00.000Z</td>\n",
              "      <td>135.300003</td>\n",
              "      <td>192.979996</td>\n",
              "      <td>2023.0</td>\n",
              "      <td>6.0</td>\n",
              "      <td>30.0</td>\n",
              "    </tr>\n",
              "    <tr>\n",
              "      <th>523326</th>\n",
              "      <td>NaN</td>\n",
              "      <td>IC2 (Sacavém)</td>\n",
              "      <td>2023-06-30T22:55:00.000Z</td>\n",
              "      <td>314.799988</td>\n",
              "      <td>378.480011</td>\n",
              "      <td>2023.0</td>\n",
              "      <td>6.0</td>\n",
              "      <td>30.0</td>\n",
              "    </tr>\n",
              "    <tr>\n",
              "      <th>523327</th>\n",
              "      <td>NaN</td>\n",
              "      <td>Ponte Vasco da Gama</td>\n",
              "      <td>2023-06-30T22:55:00.000Z</td>\n",
              "      <td>116.269997</td>\n",
              "      <td>137.070007</td>\n",
              "      <td>2023.0</td>\n",
              "      <td>6.0</td>\n",
              "      <td>30.0</td>\n",
              "    </tr>\n",
              "  </tbody>\n",
              "</table>\n",
              "<p>523328 rows × 8 columns</p>\n",
              "</div>\n",
              "    <div class=\"colab-df-buttons\">\n",
              "\n",
              "  <div class=\"colab-df-container\">\n",
              "    <button class=\"colab-df-convert\" onclick=\"convertToInteractive('df-79d8696f-c219-437a-b6ec-3084e78aa924')\"\n",
              "            title=\"Convert this dataframe to an interactive table.\"\n",
              "            style=\"display:none;\">\n",
              "\n",
              "  <svg xmlns=\"http://www.w3.org/2000/svg\" height=\"24px\" viewBox=\"0 -960 960 960\">\n",
              "    <path d=\"M120-120v-720h720v720H120Zm60-500h600v-160H180v160Zm220 220h160v-160H400v160Zm0 220h160v-160H400v160ZM180-400h160v-160H180v160Zm440 0h160v-160H620v160ZM180-180h160v-160H180v160Zm440 0h160v-160H620v160Z\"/>\n",
              "  </svg>\n",
              "    </button>\n",
              "\n",
              "  <style>\n",
              "    .colab-df-container {\n",
              "      display:flex;\n",
              "      gap: 12px;\n",
              "    }\n",
              "\n",
              "    .colab-df-convert {\n",
              "      background-color: #E8F0FE;\n",
              "      border: none;\n",
              "      border-radius: 50%;\n",
              "      cursor: pointer;\n",
              "      display: none;\n",
              "      fill: #1967D2;\n",
              "      height: 32px;\n",
              "      padding: 0 0 0 0;\n",
              "      width: 32px;\n",
              "    }\n",
              "\n",
              "    .colab-df-convert:hover {\n",
              "      background-color: #E2EBFA;\n",
              "      box-shadow: 0px 1px 2px rgba(60, 64, 67, 0.3), 0px 1px 3px 1px rgba(60, 64, 67, 0.15);\n",
              "      fill: #174EA6;\n",
              "    }\n",
              "\n",
              "    .colab-df-buttons div {\n",
              "      margin-bottom: 4px;\n",
              "    }\n",
              "\n",
              "    [theme=dark] .colab-df-convert {\n",
              "      background-color: #3B4455;\n",
              "      fill: #D2E3FC;\n",
              "    }\n",
              "\n",
              "    [theme=dark] .colab-df-convert:hover {\n",
              "      background-color: #434B5C;\n",
              "      box-shadow: 0px 1px 3px 1px rgba(0, 0, 0, 0.15);\n",
              "      filter: drop-shadow(0px 1px 2px rgba(0, 0, 0, 0.3));\n",
              "      fill: #FFFFFF;\n",
              "    }\n",
              "  </style>\n",
              "\n",
              "    <script>\n",
              "      const buttonEl =\n",
              "        document.querySelector('#df-79d8696f-c219-437a-b6ec-3084e78aa924 button.colab-df-convert');\n",
              "      buttonEl.style.display =\n",
              "        google.colab.kernel.accessAllowed ? 'block' : 'none';\n",
              "\n",
              "      async function convertToInteractive(key) {\n",
              "        const element = document.querySelector('#df-79d8696f-c219-437a-b6ec-3084e78aa924');\n",
              "        const dataTable =\n",
              "          await google.colab.kernel.invokeFunction('convertToInteractive',\n",
              "                                                    [key], {});\n",
              "        if (!dataTable) return;\n",
              "\n",
              "        const docLinkHtml = 'Like what you see? Visit the ' +\n",
              "          '<a target=\"_blank\" href=https://colab.research.google.com/notebooks/data_table.ipynb>data table notebook</a>'\n",
              "          + ' to learn more about interactive tables.';\n",
              "        element.innerHTML = '';\n",
              "        dataTable['output_type'] = 'display_data';\n",
              "        await google.colab.output.renderOutput(dataTable, element);\n",
              "        const docLink = document.createElement('div');\n",
              "        docLink.innerHTML = docLinkHtml;\n",
              "        element.appendChild(docLink);\n",
              "      }\n",
              "    </script>\n",
              "  </div>\n",
              "\n",
              "\n",
              "<div id=\"df-1e6bff00-fc46-4338-93d6-a1690f7fbf25\">\n",
              "  <button class=\"colab-df-quickchart\" onclick=\"quickchart('df-1e6bff00-fc46-4338-93d6-a1690f7fbf25')\"\n",
              "            title=\"Suggest charts\"\n",
              "            style=\"display:none;\">\n",
              "\n",
              "<svg xmlns=\"http://www.w3.org/2000/svg\" height=\"24px\"viewBox=\"0 0 24 24\"\n",
              "     width=\"24px\">\n",
              "    <g>\n",
              "        <path d=\"M19 3H5c-1.1 0-2 .9-2 2v14c0 1.1.9 2 2 2h14c1.1 0 2-.9 2-2V5c0-1.1-.9-2-2-2zM9 17H7v-7h2v7zm4 0h-2V7h2v10zm4 0h-2v-4h2v4z\"/>\n",
              "    </g>\n",
              "</svg>\n",
              "  </button>\n",
              "\n",
              "<style>\n",
              "  .colab-df-quickchart {\n",
              "      --bg-color: #E8F0FE;\n",
              "      --fill-color: #1967D2;\n",
              "      --hover-bg-color: #E2EBFA;\n",
              "      --hover-fill-color: #174EA6;\n",
              "      --disabled-fill-color: #AAA;\n",
              "      --disabled-bg-color: #DDD;\n",
              "  }\n",
              "\n",
              "  [theme=dark] .colab-df-quickchart {\n",
              "      --bg-color: #3B4455;\n",
              "      --fill-color: #D2E3FC;\n",
              "      --hover-bg-color: #434B5C;\n",
              "      --hover-fill-color: #FFFFFF;\n",
              "      --disabled-bg-color: #3B4455;\n",
              "      --disabled-fill-color: #666;\n",
              "  }\n",
              "\n",
              "  .colab-df-quickchart {\n",
              "    background-color: var(--bg-color);\n",
              "    border: none;\n",
              "    border-radius: 50%;\n",
              "    cursor: pointer;\n",
              "    display: none;\n",
              "    fill: var(--fill-color);\n",
              "    height: 32px;\n",
              "    padding: 0;\n",
              "    width: 32px;\n",
              "  }\n",
              "\n",
              "  .colab-df-quickchart:hover {\n",
              "    background-color: var(--hover-bg-color);\n",
              "    box-shadow: 0 1px 2px rgba(60, 64, 67, 0.3), 0 1px 3px 1px rgba(60, 64, 67, 0.15);\n",
              "    fill: var(--button-hover-fill-color);\n",
              "  }\n",
              "\n",
              "  .colab-df-quickchart-complete:disabled,\n",
              "  .colab-df-quickchart-complete:disabled:hover {\n",
              "    background-color: var(--disabled-bg-color);\n",
              "    fill: var(--disabled-fill-color);\n",
              "    box-shadow: none;\n",
              "  }\n",
              "\n",
              "  .colab-df-spinner {\n",
              "    border: 2px solid var(--fill-color);\n",
              "    border-color: transparent;\n",
              "    border-bottom-color: var(--fill-color);\n",
              "    animation:\n",
              "      spin 1s steps(1) infinite;\n",
              "  }\n",
              "\n",
              "  @keyframes spin {\n",
              "    0% {\n",
              "      border-color: transparent;\n",
              "      border-bottom-color: var(--fill-color);\n",
              "      border-left-color: var(--fill-color);\n",
              "    }\n",
              "    20% {\n",
              "      border-color: transparent;\n",
              "      border-left-color: var(--fill-color);\n",
              "      border-top-color: var(--fill-color);\n",
              "    }\n",
              "    30% {\n",
              "      border-color: transparent;\n",
              "      border-left-color: var(--fill-color);\n",
              "      border-top-color: var(--fill-color);\n",
              "      border-right-color: var(--fill-color);\n",
              "    }\n",
              "    40% {\n",
              "      border-color: transparent;\n",
              "      border-right-color: var(--fill-color);\n",
              "      border-top-color: var(--fill-color);\n",
              "    }\n",
              "    60% {\n",
              "      border-color: transparent;\n",
              "      border-right-color: var(--fill-color);\n",
              "    }\n",
              "    80% {\n",
              "      border-color: transparent;\n",
              "      border-right-color: var(--fill-color);\n",
              "      border-bottom-color: var(--fill-color);\n",
              "    }\n",
              "    90% {\n",
              "      border-color: transparent;\n",
              "      border-bottom-color: var(--fill-color);\n",
              "    }\n",
              "  }\n",
              "</style>\n",
              "\n",
              "  <script>\n",
              "    async function quickchart(key) {\n",
              "      const quickchartButtonEl =\n",
              "        document.querySelector('#' + key + ' button');\n",
              "      quickchartButtonEl.disabled = true;  // To prevent multiple clicks.\n",
              "      quickchartButtonEl.classList.add('colab-df-spinner');\n",
              "      try {\n",
              "        const charts = await google.colab.kernel.invokeFunction(\n",
              "            'suggestCharts', [key], {});\n",
              "      } catch (error) {\n",
              "        console.error('Error during call to suggestCharts:', error);\n",
              "      }\n",
              "      quickchartButtonEl.classList.remove('colab-df-spinner');\n",
              "      quickchartButtonEl.classList.add('colab-df-quickchart-complete');\n",
              "    }\n",
              "    (() => {\n",
              "      let quickchartButtonEl =\n",
              "        document.querySelector('#df-1e6bff00-fc46-4338-93d6-a1690f7fbf25 button');\n",
              "      quickchartButtonEl.style.display =\n",
              "        google.colab.kernel.accessAllowed ? 'block' : 'none';\n",
              "    })();\n",
              "  </script>\n",
              "</div>\n",
              "    </div>\n",
              "  </div>\n"
            ]
          },
          "metadata": {},
          "execution_count": 8
        }
      ]
    },
    {
      "cell_type": "code",
      "source": [
        "print(\"Shape of EMEL Data: \", data_frame_emel.shape)\n",
        "print(\"Shape of Eixos 2021: \", data_vodafone_eixos2021.shape)\n",
        "print(\"Shape of Eixos 2022: \", data_vodafone_eixos2022.shape)\n",
        "print(\"Shape of Eixos 2023: \", data_vodafone_eixos2023.shape)"
      ],
      "metadata": {
        "id": "IwQ7qTBI1wn4",
        "outputId": "8daf8b91-517f-4859-fd97-11c9b6544db7",
        "colab": {
          "base_uri": "https://localhost:8080/"
        }
      },
      "execution_count": 11,
      "outputs": [
        {
          "output_type": "stream",
          "name": "stdout",
          "text": [
            "Shape of EMEL Data:  (59049, 10)\n",
            "Shape of Eixos 2021:  (326270, 7)\n",
            "Shape of Eixos 2022:  (443399, 8)\n",
            "Shape of Eixos 2023:  (523328, 8)\n"
          ]
        }
      ]
    },
    {
      "cell_type": "code",
      "source": [
        "print(\"First 10 instances of EMEL Data: \\n\", data_frame_emel.head(10))\n",
        "print(\"First 10 instances of Eixos 2021: \\n\", data_vodafone_eixos2021.head(10))\n",
        "print(\"First 10 instances of Eixos 2022: \\n\", data_vodafone_eixos2022.head(10))\n",
        "print(\"First 10 instances of Eixos 2023: \\n\", data_vodafone_eixos2023.head(10))"
      ],
      "metadata": {
        "id": "Oy2Y4k382UCT",
        "outputId": "7ff598a0-637e-42b2-ede3-6a48f4cc356d",
        "colab": {
          "base_uri": "https://localhost:8080/"
        }
      },
      "execution_count": 13,
      "outputs": [
        {
          "output_type": "stream",
          "name": "stdout",
          "text": [
            "First 10 instances of EMEL Data: \n",
            "                                         entity_id          impacto  \\\n",
            "0  EMEL.condicionamentoTransito.COND-2018-10069-3        Relevante   \n",
            "1    EMEL.condicionamentoTransito.COND-2019-172-1        Relevante   \n",
            "2    EMEL.condicionamentoTransito.COND-2019-172-1        Relevante   \n",
            "3    EMEL.condicionamentoTransito.COND-2019-695-2        Relevante   \n",
            "4    EMEL.condicionamentoTransito.COND-2019-674-3        Relevante   \n",
            "5    EMEL.condicionamentoTransito.COND-2019-674-9  Pouco relevante   \n",
            "6   EMEL.condicionamentoTransito.COND-2018-9906-1        Relevante   \n",
            "7   EMEL.condicionamentoTransito.COND-2018-9576-1        Relevante   \n",
            "8   EMEL.condicionamentoTransito.COND-2018-9942-1        Relevante   \n",
            "9    EMEL.condicionamentoTransito.COND-2019-634-1  Pouco relevante   \n",
            "\n",
            "   restricao_circulacao                                           morada  \\\n",
            "0  Estreitamento de via                                     Rua Amarelhe   \n",
            "1  Estreitamento de via                          Avenida da República 95   \n",
            "2  Estreitamento de via                          Avenida da República 95   \n",
            "3  Mantém perfil de via                                     Rua da Palma   \n",
            "4        Estacionamento                        Rua Pereira Henriques, 24   \n",
            "5        Estacionamento  Travessa do Olival a Santos 16/Jardim do Olival   \n",
            "6        Estacionamento           Rua São Marçal,114,168,174,176-B e 176   \n",
            "7  Mantém perfil de via                        Avenida João XXI,80 B e C   \n",
            "8  Estreitamento de via                       Rua Manuel Jesus Coelho, 9   \n",
            "9        Estacionamento    Rua Luz Soriano, 63/Teatro Aberto-Bairro Alto   \n",
            "\n",
            "                           periodos_condicionamentos  \\\n",
            "0  [{\"end_date\": \"1548439200000\", \"date_min\": \"20...   \n",
            "1  [{\"end_date\": \"1548403200000\", \"date_min\": \"20...   \n",
            "2  [{\"end_date\": \"1548403200000\", \"date_min\": \"20...   \n",
            "3  [{\"end_date\": \"1548460800000\", \"date_min\": \"20...   \n",
            "4  [{\"end_date\": \"1549483200000\", \"date_min\": \"20...   \n",
            "5  [{\"end_date\": \"1549483200000\", \"date_min\": \"20...   \n",
            "6  [{\"end_date\": \"1549297800000\", \"date_min\": \"20...   \n",
            "7  [{\"end_date\": \"1546533000000\", \"date_min\": \"20...   \n",
            "8  [{\"end_date\": \"1546533000000\", \"date_min\": \"20...   \n",
            "9  [{\"end_date\": \"1549296000000\", \"date_min\": \"20...   \n",
            "\n",
            "                                motivo  \\\n",
            "0                             PINTURAS   \n",
            "1             CARGAS E DESCARGAS/OBRAS   \n",
            "2             CARGAS E DESCARGAS/OBRAS   \n",
            "3                         MANIFESTAÇÃO   \n",
            "4                            FILMAGENS   \n",
            "5                            FILMAGENS   \n",
            "6  OBRAS NO SUBSOLO - FAIXA DE RODAGEM   \n",
            "7            ACESSO DE VEÍCULOS À OBRA   \n",
            "8                   CARGAS E DESCARGAS   \n",
            "9                   CARGAS E DESCARGAS   \n",
            "\n",
            "                                            position        creation_date  \\\n",
            "0  {\"type\": \"GeometryCollection\", \"geometries\": [...  2018-12-21 10:32:16   \n",
            "1  {\"type\": \"GeometryCollection\", \"geometries\": [...  2019-01-08 16:21:40   \n",
            "2  {\"type\": \"GeometryCollection\", \"geometries\": [...  2019-01-08 16:21:40   \n",
            "3  {\"type\": \"GeometryCollection\", \"geometries\": [...  2019-01-25 09:43:49   \n",
            "4  {\"type\": \"GeometryCollection\", \"geometries\": [...  2019-01-24 15:40:35   \n",
            "5  {\"type\": \"GeometryCollection\", \"geometries\": [...  2019-01-24 15:59:20   \n",
            "6  {\"type\": \"GeometryCollection\", \"geometries\": [...  2018-12-14 13:56:56   \n",
            "7  {\"type\": \"GeometryCollection\", \"geometries\": [...  2018-12-04 15:19:06   \n",
            "8  {\"type\": \"GeometryCollection\", \"geometries\": [...  2018-12-17 12:21:46   \n",
            "9  {\"type\": \"GeometryCollection\", \"geometries\": [...  2019-01-23 14:36:08   \n",
            "\n",
            "    startperiodo     endperiodo  \n",
            "0  1547452800000  1548439200000  \n",
            "1  1547445600000  1548403200000  \n",
            "2  1547496000000  1548457200000  \n",
            "3  1548531900000  1548460800000  \n",
            "4  1548748800000  1549483200000  \n",
            "5  1548748800000  1549483200000  \n",
            "6  1546423200000  1549297800000  \n",
            "7  1545040800000  1546533000000  \n",
            "8  1546423200000  1546533000000  \n",
            "9  1549281600000  1549296000000  \n",
            "First 10 instances of Eixos 2021: \n",
            "                    Eixo                  Datetime  extract_year_2  \\\n",
            "0    N117 (Cabos Ávila)  2021-12-01T00:00:00.000Z            2021   \n",
            "1  A36 (Túnel do Grilo)  2021-12-01T00:00:00.000Z            2021   \n",
            "2   Ponte Vasco da Gama  2021-12-01T00:00:00.000Z            2021   \n",
            "3                  IC16  2021-12-01T00:05:00.000Z            2021   \n",
            "4    N117 (Cabos Ávila)  2021-12-01T00:10:00.000Z            2021   \n",
            "5              Marginal  2021-12-01T00:45:00.000Z            2021   \n",
            "6    N117 (Cabos Ávila)  2021-12-01T00:45:00.000Z            2021   \n",
            "7   Calçada de Carriche  2021-12-01T00:45:00.000Z            2021   \n",
            "8         IC2 (Sacavém)  2021-12-01T00:45:00.000Z            2021   \n",
            "9    N117 (Cabos Ávila)  2021-12-01T00:50:00.000Z            2021   \n",
            "\n",
            "   extract_month_3  extract_day_4         C12         C13  \n",
            "0               12              1  147.899994  168.139999  \n",
            "1               12              1    0.000000    0.000000  \n",
            "2               12              1    0.000000    0.000000  \n",
            "3               12              1   64.250000  124.830002  \n",
            "4               12              1  140.889999   66.199997  \n",
            "5               12              1   86.239998   92.550003  \n",
            "6               12              1   31.850000  138.610001  \n",
            "7               12              1    0.000000    0.000000  \n",
            "8               12              1   34.610001   54.779999  \n",
            "9               12              1   97.360001  176.979996  \n",
            "First 10 instances of Eixos 2022: \n",
            "                   Eixo                  Datetime  extract_year_2  \\\n",
            "0             Marginal  2022-01-03T20:20:00.000Z          2022.0   \n",
            "1  Calçada de Carriche  2022-01-03T20:25:00.000Z          2022.0   \n",
            "2       Ponte 25 Abril  2022-01-03T20:30:00.000Z          2022.0   \n",
            "3   N117 (Cabos Ávila)  2022-01-03T20:30:00.000Z          2022.0   \n",
            "4        IC2 (Sacavém)  2022-01-03T20:30:00.000Z          2022.0   \n",
            "5        IC2 (Sacavém)  2022-01-03T20:35:00.000Z          2022.0   \n",
            "6             Marginal  2022-01-03T20:40:00.000Z          2022.0   \n",
            "7  Calçada de Carriche  2022-01-03T20:40:00.000Z          2022.0   \n",
            "8   N117 (Cabos Ávila)  2022-01-03T20:45:00.000Z          2022.0   \n",
            "9                   A1  2022-01-03T20:50:00.000Z          2022.0   \n",
            "\n",
            "   extract_month_3  extract_day_4         C12         C13  id_eixo_viario  \n",
            "0              1.0            3.0   29.690001  118.370003             NaN  \n",
            "1              1.0            3.0   17.150000   34.430000             NaN  \n",
            "2              1.0            3.0    2.020000    4.880000             NaN  \n",
            "3              1.0            3.0   65.220001   78.080002             NaN  \n",
            "4              1.0            3.0   57.009998   36.689999             NaN  \n",
            "5              1.0            3.0  466.880005   28.400000             NaN  \n",
            "6              1.0            3.0   51.840000   25.280001             NaN  \n",
            "7              1.0            3.0    3.030000   22.750000             NaN  \n",
            "8              1.0            3.0   73.669998  118.290001             NaN  \n",
            "9              1.0            3.0   11.520000   17.959999             NaN  \n",
            "First 10 instances of Eixos 2023: \n",
            "    id_eixo_viario                 Eixo       Datetime   C12   C13  \\\n",
            "0            11.0        IC2 (Sacavém)  1672531200000  3.20  0.00   \n",
            "1             3.0                   A5  1672531500000  0.00  0.00   \n",
            "2             4.0   N117 (Cabos Ávila)  1672531500000  4.69  0.00   \n",
            "3             5.0                 IC19  1672531500000  0.00  0.00   \n",
            "4             1.0       Ponte 25 Abril  1672535700000  3.34  3.34   \n",
            "5             4.0   N117 (Cabos Ávila)  1672535700000  0.00  0.00   \n",
            "6            10.0  Ponte Vasco da Gama  1672535700000  0.00  0.00   \n",
            "7             2.0             Marginal  1672539600000  0.00  0.00   \n",
            "8             7.0  Calçada de Carriche  1672539600000  0.00  0.00   \n",
            "9             9.0                   A1  1672539600000  0.00  0.00   \n",
            "\n",
            "   extract_year_2  extract_month_3  extract_day_4  \n",
            "0             NaN              NaN            NaN  \n",
            "1             NaN              NaN            NaN  \n",
            "2             NaN              NaN            NaN  \n",
            "3             NaN              NaN            NaN  \n",
            "4             NaN              NaN            NaN  \n",
            "5             NaN              NaN            NaN  \n",
            "6             NaN              NaN            NaN  \n",
            "7             NaN              NaN            NaN  \n",
            "8             NaN              NaN            NaN  \n",
            "9             NaN              NaN            NaN  \n"
          ]
        }
      ]
    },
    {
      "cell_type": "code",
      "source": [
        "print(\"Features of EMEL Data: \\n\", data_frame_emel.columns)\n",
        "print(\"Features of Eixos 2021: \\n\", data_vodafone_eixos2021.columns)\n",
        "print(\"Features of Eixos 2022: \\n\", data_vodafone_eixos2022.columns)\n",
        "print(\"Features of Eixos 2023: \\n\", data_vodafone_eixos2023.columns)"
      ],
      "metadata": {
        "id": "ac6vzrgZldYM",
        "outputId": "66eae40f-c695-4827-a556-287ce7ba5d21",
        "colab": {
          "base_uri": "https://localhost:8080/"
        }
      },
      "execution_count": 14,
      "outputs": [
        {
          "output_type": "stream",
          "name": "stdout",
          "text": [
            "Features of EMEL Data: \n",
            " Index(['entity_id', 'impacto', 'restricao_circulacao', 'morada',\n",
            "       'periodos_condicionamentos', 'motivo', 'position', 'creation_date',\n",
            "       'startperiodo', 'endperiodo'],\n",
            "      dtype='object')\n",
            "Features of Eixos 2021: \n",
            " Index(['Eixo', 'Datetime', 'extract_year_2', 'extract_month_3',\n",
            "       'extract_day_4', 'C12', 'C13'],\n",
            "      dtype='object')\n",
            "Features of Eixos 2022: \n",
            " Index(['Eixo', 'Datetime', 'extract_year_2', 'extract_month_3',\n",
            "       'extract_day_4', 'C12', 'C13', 'id_eixo_viario'],\n",
            "      dtype='object')\n",
            "Features of Eixos 2023: \n",
            " Index(['id_eixo_viario', 'Eixo', 'Datetime', 'C12', 'C13', 'extract_year_2',\n",
            "       'extract_month_3', 'extract_day_4'],\n",
            "      dtype='object')\n"
          ]
        }
      ]
    },
    {
      "cell_type": "code",
      "source": [
        "print(\"Features With null values of EMEL Data: \\n\", data_frame_emel.isnull().sum())"
      ],
      "metadata": {
        "id": "UczrqfT5l2oc",
        "outputId": "3ab7965e-194f-4cc4-87f1-5aac31aaf71d",
        "colab": {
          "base_uri": "https://localhost:8080/"
        }
      },
      "execution_count": 15,
      "outputs": [
        {
          "output_type": "stream",
          "name": "stdout",
          "text": [
            "Features With null values of EMEL Data: \n",
            " entity_id                    0\n",
            "impacto                      1\n",
            "restricao_circulacao         1\n",
            "morada                       0\n",
            "periodos_condicionamentos    0\n",
            "motivo                       1\n",
            "position                     0\n",
            "creation_date                0\n",
            "startperiodo                 0\n",
            "endperiodo                   0\n",
            "dtype: int64\n"
          ]
        }
      ]
    },
    {
      "cell_type": "code",
      "source": [
        "print(\"Features With null values of Eixos 2021: \\n\", data_vodafone_eixos2021.isnull().sum())"
      ],
      "metadata": {
        "id": "9tdOnY4LmCUL",
        "outputId": "39422deb-48e9-4253-ca63-4a2d84f6c168",
        "colab": {
          "base_uri": "https://localhost:8080/"
        }
      },
      "execution_count": 16,
      "outputs": [
        {
          "output_type": "stream",
          "name": "stdout",
          "text": [
            "Features With null values of Eixos 2021: \n",
            " Eixo               0\n",
            "Datetime           0\n",
            "extract_year_2     0\n",
            "extract_month_3    0\n",
            "extract_day_4      0\n",
            "C12                0\n",
            "C13                0\n",
            "dtype: int64\n"
          ]
        }
      ]
    },
    {
      "cell_type": "code",
      "source": [
        "print(\"Features With null values of Eixos 2022: \\n\", data_vodafone_eixos2022.isnull().sum())"
      ],
      "metadata": {
        "id": "fyiQFzcKmL8y",
        "outputId": "3f7ca816-b18c-4feb-a6a9-58ae56c0bf2b",
        "colab": {
          "base_uri": "https://localhost:8080/"
        }
      },
      "execution_count": 17,
      "outputs": [
        {
          "output_type": "stream",
          "name": "stdout",
          "text": [
            "Features With null values of Eixos 2022: \n",
            " Eixo                    0\n",
            "Datetime                0\n",
            "extract_year_2     283706\n",
            "extract_month_3    283706\n",
            "extract_day_4      283706\n",
            "C12                     0\n",
            "C13                     0\n",
            "id_eixo_viario     159693\n",
            "dtype: int64\n"
          ]
        }
      ]
    },
    {
      "cell_type": "code",
      "source": [
        "print(\"Features With null values of Eixos 2023: \\n\", data_vodafone_eixos2023.isnull().sum())"
      ],
      "metadata": {
        "id": "ag4jPmfPmQki",
        "outputId": "a3871c1d-15d3-445e-9da6-cc54eb9d1f0d",
        "colab": {
          "base_uri": "https://localhost:8080/"
        }
      },
      "execution_count": 18,
      "outputs": [
        {
          "output_type": "stream",
          "name": "stdout",
          "text": [
            "Features With null values of Eixos 2023: \n",
            " id_eixo_viario     184264\n",
            "Eixo                    0\n",
            "Datetime                0\n",
            "C12                     0\n",
            "C13                     0\n",
            "extract_year_2     339064\n",
            "extract_month_3    339064\n",
            "extract_day_4      339064\n",
            "dtype: int64\n"
          ]
        }
      ]
    },
    {
      "cell_type": "code",
      "source": [],
      "metadata": {
        "id": "Z4rhQQD1mU-6"
      },
      "execution_count": null,
      "outputs": []
    }
  ]
}