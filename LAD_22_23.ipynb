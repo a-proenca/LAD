{
  "nbformat": 4,
  "nbformat_minor": 0,
  "metadata": {
    "colab": {
      "provenance": [],
      "authorship_tag": "ABX9TyMgo3wGmArs0OonQOyE6ADn",
      "include_colab_link": true
    },
    "kernelspec": {
      "name": "python3",
      "display_name": "Python 3"
    },
    "language_info": {
      "name": "python"
    }
  },
  "cells": [
    {
      "cell_type": "markdown",
      "metadata": {
        "id": "view-in-github",
        "colab_type": "text"
      },
      "source": [
        "<a href=\"https://colab.research.google.com/github/a-proenca/LAD/blob/main/LAD_22_23.ipynb\" target=\"_parent\"><img src=\"https://colab.research.google.com/assets/colab-badge.svg\" alt=\"Open In Colab\"/></a>"
      ]
    },
    {
      "cell_type": "markdown",
      "source": [
        "## Instituto Politécnico de Coimbra\n",
        "## Instituto Superior de Engenharia de Coimbra\n",
        "## Mestrado em Engenharia Informática - Laboratório de Análise de Dados\n",
        "## Elaborado por:\n",
        "\n",
        "# André Proença - 2016018783\n",
        "\n",
        "# Bruno Coutinho -"
      ],
      "metadata": {
        "id": "X7mr4h591M6i"
      }
    },
    {
      "cell_type": "markdown",
      "source": [
        "#Imports"
      ],
      "metadata": {
        "id": "aLxvDwU31U5-"
      }
    },
    {
      "cell_type": "code",
      "source": [
        "import seaborn as sea\n",
        "import pandas as pd\n",
        "from matplotlib import pyplot as plt\n",
        "import numpy as np\n",
        "import os"
      ],
      "metadata": {
        "id": "5mCUIttN1WXW"
      },
      "execution_count": null,
      "outputs": []
    },
    {
      "cell_type": "code",
      "source": [],
      "metadata": {
        "id": "Gr8xBV6t1Z96"
      },
      "execution_count": null,
      "outputs": []
    },
    {
      "cell_type": "markdown",
      "source": [
        "#FUNCOES\n"
      ],
      "metadata": {
        "id": "KX0oqh7E1cPy"
      }
    },
    {
      "cell_type": "code",
      "source": [
        "def ler_emel():\n",
        "    emel_filepath = '../Dados/EMEL'\n",
        "    ficheiros = ['EMEL_CONDICIONAMENTOS_TRANSITO_2019.csv','EMEL_CONDICIONAMENTOS_TRANSITO_2020.csv','EMEL_CONDICIONAMENTOS_TRANSITO_2021.csv','EMEL_CONDICIONAMENTOS_TRANSITO_2022.csv','EMEL_CONDICIONAMENTOS_TRANSITO_2023_1ºSEM.csv']\n",
        "\n",
        "    data_frames = []  # Initialize as an empty list\n",
        "\n",
        "    for ficheiro in ficheiros:\n",
        "        path = os.path.join(emel_filepath, ficheiro)\n",
        "\n",
        "        try:\n",
        "            data_frame = pd.read_csv(path)\n",
        "            data_frames.append(data_frame)\n",
        "\n",
        "        except FileNotFoundError:\n",
        "            print(f\"Arquivo {ficheiro} não encontrado.\")\n",
        "\n",
        "    result = pd.concat(data_frames, ignore_index=True)\n",
        "\n",
        "    return result\n"
      ],
      "metadata": {
        "id": "S6CcHkVT1e9x"
      },
      "execution_count": null,
      "outputs": []
    },
    {
      "cell_type": "code",
      "source": [
        "def ler_eixos_vodafone_2021():\n",
        "    vodafone_filepath = '../Dados/VODAFONE_EIXOS/PGIL_VODAFONE_EIXOS_2021'\n",
        "    ficheiros = ['PGIL_VODAFONE_EIXOS_2021_dez.csv','PGIL_VODAFONE_EIXOS_2021_nov.csv','PGIL_VODAFONE_EIXOS_2021_out.csv','PGIL_VODAFONE_EIXOS_2021_set.csv']\n",
        "\n",
        "    data_frames = []  # Initialize as an empty list\n",
        "\n",
        "    for ficheiro in ficheiros:\n",
        "        path = os.path.join(vodafone_filepath, ficheiro)\n",
        "\n",
        "        try:\n",
        "            data_frame = pd.read_csv(path)\n",
        "            data_frames.append(data_frame)\n",
        "\n",
        "        except FileNotFoundError:\n",
        "            print(f\"Arquivo {ficheiro} não encontrado.\")\n",
        "\n",
        "    result = pd.concat(data_frames, ignore_index=True)\n",
        "\n",
        "    return result"
      ],
      "metadata": {
        "id": "tdaME3gG1hYZ"
      },
      "execution_count": null,
      "outputs": []
    },
    {
      "cell_type": "code",
      "source": [
        "def ler_eixos_vodafone_2022():\n",
        "    vodafone_filepath = '../Dados/VODAFONE_EIXOS/PGIL_VODAFONE_EIXOS_2022'\n",
        "    ficheiros = ['PGIL_VODAFONE_EIXOS_2022_01.csv','PGIL_VODAFONE_EIXOS_2022_02.csv','PGIL_VODAFONE_EIXOS_2022_03.csv','PGIL_VODAFONE_EIXOS_2022_04.csv','PGIL_VODAFONE_EIXOS_2022_05.csv','PGIL_VODAFONE_EIXOS_2022_06.csv','PGIL_VODAFONE_EIXOS_2022_07.csv','PGIL_VODAFONE_EIXOS_2022_08.csv','PGIL_VODAFONE_EIXOS_2022_09.csv','PGIL_VODAFONE_EIXOS_2022_10.csv','PGIL_VODAFONE_EIXOS_2022_11.csv','PGIL_VODAFONE_EIXOS_2022_12.csv']\n",
        "\n",
        "    data_frames = []  # Initialize as an empty list\n",
        "\n",
        "    for ficheiro in ficheiros:\n",
        "        path = os.path.join(vodafone_filepath, ficheiro)\n",
        "\n",
        "        try:\n",
        "            data_frame = pd.read_csv(path)\n",
        "            data_frames.append(data_frame)\n",
        "\n",
        "        except FileNotFoundError:\n",
        "            print(f\"Arquivo {ficheiro} não encontrado.\")\n",
        "\n",
        "    result = pd.concat(data_frames, ignore_index=True)\n",
        "\n",
        "    return result"
      ],
      "metadata": {
        "id": "HkhT1QFs1lX4"
      },
      "execution_count": null,
      "outputs": []
    },
    {
      "cell_type": "code",
      "source": [
        "def ler_eixos_vodafone_2023():\n",
        "    vodafone_filepath = '../Dados/VODAFONE_EIXOS/PGIL_VODAFONE_EIXOS_2023'\n",
        "    ficheiros = ['PgilVodafone_Eixos_012023.csv','PgilVodafone_Eixos_022023.csv','PgilVodafone_Eixos_032023.csv','PgilVodafone_Eixos_042023.csv','PGILVodafonEixos_052023.csv','PGILVodafonEixos_062023.csv']\n",
        "\n",
        "    data_frames = []  # Initialize as an empty list\n",
        "\n",
        "    for ficheiro in ficheiros:\n",
        "        path = os.path.join(vodafone_filepath, ficheiro)\n",
        "\n",
        "        try:\n",
        "            data_frame = pd.read_csv(path)\n",
        "            data_frames.append(data_frame)\n",
        "\n",
        "        except FileNotFoundError:\n",
        "            print(f\"Arquivo {ficheiro} não encontrado.\")\n",
        "\n",
        "    result = pd.concat(data_frames, ignore_index=True)\n",
        "\n",
        "    return result"
      ],
      "metadata": {
        "id": "sgKVLNy91nSw"
      },
      "execution_count": null,
      "outputs": []
    },
    {
      "cell_type": "code",
      "source": [
        "data_frame_emel = ler_emel()\n",
        "data_vodafone_eixos2021 = ler_eixos_vodafone_2021()\n",
        "data_vodafone_eixos2022 = ler_eixos_vodafone_2022()\n",
        "data_vodafone_eixos2023 = ler_eixos_vodafone_2023()\n"
      ],
      "metadata": {
        "id": "xMTdAGE71otZ"
      },
      "execution_count": null,
      "outputs": []
    },
    {
      "cell_type": "code",
      "source": [
        "data_vodafone_eixos2023"
      ],
      "metadata": {
        "id": "Ur_gzJEv1pzn"
      },
      "execution_count": null,
      "outputs": []
    },
    {
      "cell_type": "code",
      "source": [],
      "metadata": {
        "id": "IwQ7qTBI1wn4"
      },
      "execution_count": null,
      "outputs": []
    },
    {
      "cell_type": "code",
      "source": [],
      "metadata": {
        "id": "Oy2Y4k382UCT"
      },
      "execution_count": null,
      "outputs": []
    }
  ]
}